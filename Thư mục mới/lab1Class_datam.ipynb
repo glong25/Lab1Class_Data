{
 "cells": [
  {
   "cell_type": "code",
   "execution_count": 1,
   "id": "3ef0974e",
   "metadata": {},
   "outputs": [
    {
     "data": {
      "text/plain": [
       "50"
      ]
     },
     "execution_count": 1,
     "metadata": {},
     "output_type": "execute_result"
    }
   ],
   "source": [
    "1+1\n",
    "1*3\n",
    "1/2\n",
    "2**4\n",
    "4%2\n",
    "5%2\n",
    "(2+3)*(5+5)"
   ]
  },
  {
   "cell_type": "code",
   "execution_count": 2,
   "id": "e4887583",
   "metadata": {},
   "outputs": [
    {
     "data": {
      "text/plain": [
       "5"
      ]
     },
     "execution_count": 2,
     "metadata": {},
     "output_type": "execute_result"
    }
   ],
   "source": [
    "name_of_var=2\n",
    "x=2\n",
    "y=3\n",
    "z=x+y\n",
    "z\n"
   ]
  },
  {
   "cell_type": "code",
   "execution_count": 3,
   "id": "7b8f219c",
   "metadata": {},
   "outputs": [
    {
     "data": {
      "text/plain": [
       "\"wrap lot's of the quotes\""
      ]
     },
     "execution_count": 3,
     "metadata": {},
     "output_type": "execute_result"
    }
   ],
   "source": [
    "'single quotes'\n",
    "\"double quotes\"\n",
    "\"wrap lot's of the quotes\""
   ]
  },
  {
   "cell_type": "code",
   "execution_count": 6,
   "id": "cf4b925a",
   "metadata": {
    "scrolled": false
   },
   "outputs": [
    {
     "name": "stdout",
     "output_type": "stream",
     "text": [
      "hello\n",
      "My number is: 12, and my name is Sam\n",
      "My number is:12, and my name is: Sam\n"
     ]
    }
   ],
   "source": [
    "x='hello'\n",
    "x\n",
    "print(x)\n",
    "num=12\n",
    "name='Sam'\n",
    "print('My number is: {one}, and my name is {two}'.format(one=num,two=name))\n",
    "print('My number is:{}, and my name is: {}'.format(num,name))"
   ]
  },
  {
   "cell_type": "code",
   "execution_count": 7,
   "id": "c7e59347",
   "metadata": {},
   "outputs": [
    {
     "data": {
      "text/plain": [
       "['b', 'c', 'd']"
      ]
     },
     "execution_count": 7,
     "metadata": {},
     "output_type": "execute_result"
    }
   ],
   "source": [
    "[1,2,3]\n",
    "['hi',1,[1,2]]\n",
    "my_list = ['a','b','c']\n",
    "my_list.append('d')\n",
    "my_list\n",
    "my_list[0]\n",
    "my_list[1]\n",
    "my_list[1:]"
   ]
  },
  {
   "cell_type": "code",
   "execution_count": 16,
   "id": "6ae6fa55",
   "metadata": {},
   "outputs": [
    {
     "data": {
      "text/plain": [
       "{'target'}"
      ]
     },
     "execution_count": 16,
     "metadata": {},
     "output_type": "execute_result"
    }
   ],
   "source": [
    "\n",
    "my_list[:1]\n",
    "my_list[0]='NEW'\n",
    "my_list\n",
    "nest = [1,2,3,[4,5,{'target'}]]\n",
    "nest[3]\n",
    "nest[3][2]\n"
   ]
  },
  {
   "cell_type": "code",
   "execution_count": 17,
   "id": "e449843c",
   "metadata": {},
   "outputs": [
    {
     "data": {
      "text/plain": [
       "False"
      ]
     },
     "execution_count": 17,
     "metadata": {},
     "output_type": "execute_result"
    }
   ],
   "source": [
    "d = {'key1':'item1','key2':'item'}\n",
    "d\n",
    "d['key1']\n",
    "True\n",
    "False"
   ]
  },
  {
   "cell_type": "code",
   "execution_count": 18,
   "id": "4819dbed",
   "metadata": {},
   "outputs": [
    {
     "ename": "TypeError",
     "evalue": "'tuple' object does not support item assignment",
     "output_type": "error",
     "traceback": [
      "\u001b[1;31m---------------------------------------------------------------------------\u001b[0m",
      "\u001b[1;31mTypeError\u001b[0m                                 Traceback (most recent call last)",
      "\u001b[1;32m~\\AppData\\Local\\Temp\\ipykernel_5544\\697620249.py\u001b[0m in \u001b[0;36m<module>\u001b[1;34m\u001b[0m\n\u001b[0;32m      1\u001b[0m \u001b[0mt\u001b[0m \u001b[1;33m=\u001b[0m \u001b[1;33m(\u001b[0m\u001b[1;36m1\u001b[0m\u001b[1;33m,\u001b[0m\u001b[1;36m2\u001b[0m\u001b[1;33m,\u001b[0m\u001b[1;36m3\u001b[0m\u001b[1;33m)\u001b[0m\u001b[1;33m\u001b[0m\u001b[1;33m\u001b[0m\u001b[0m\n\u001b[0;32m      2\u001b[0m \u001b[0mt\u001b[0m\u001b[1;33m[\u001b[0m\u001b[1;36m0\u001b[0m\u001b[1;33m]\u001b[0m\u001b[1;33m\u001b[0m\u001b[1;33m\u001b[0m\u001b[0m\n\u001b[1;32m----> 3\u001b[1;33m \u001b[0mt\u001b[0m\u001b[1;33m[\u001b[0m\u001b[1;36m0\u001b[0m\u001b[1;33m]\u001b[0m\u001b[1;33m=\u001b[0m \u001b[1;34m' New'\u001b[0m\u001b[1;33m\u001b[0m\u001b[1;33m\u001b[0m\u001b[0m\n\u001b[0m",
      "\u001b[1;31mTypeError\u001b[0m: 'tuple' object does not support item assignment"
     ]
    }
   ],
   "source": [
    "t = (1,2,3)\n",
    "t[0]\n",
    "t[0]= ' New'"
   ]
  },
  {
   "cell_type": "code",
   "execution_count": 19,
   "id": "5463fb78",
   "metadata": {},
   "outputs": [
    {
     "data": {
      "text/plain": [
       "{1, 2, 3}"
      ]
     },
     "execution_count": 19,
     "metadata": {},
     "output_type": "execute_result"
    }
   ],
   "source": [
    "{1,2,3}"
   ]
  },
  {
   "cell_type": "code",
   "execution_count": 20,
   "id": "965834cc",
   "metadata": {},
   "outputs": [
    {
     "data": {
      "text/plain": [
       "False"
      ]
     },
     "execution_count": 20,
     "metadata": {},
     "output_type": "execute_result"
    }
   ],
   "source": [
    "1>2\n",
    "1<2\n",
    "1>=1\n",
    "1<=4\n",
    "1==1\n",
    "'hi'=='bye'\n"
   ]
  },
  {
   "cell_type": "code",
   "execution_count": 21,
   "id": "5b62a6bf",
   "metadata": {},
   "outputs": [
    {
     "data": {
      "text/plain": [
       "True"
      ]
     },
     "execution_count": 21,
     "metadata": {},
     "output_type": "execute_result"
    }
   ],
   "source": [
    "(1>2) and (2<3)\n",
    "(1>2) or (2<3)\n",
    "(1==2) or (2==3) or (4==4)"
   ]
  },
  {
   "cell_type": "code",
   "execution_count": 25,
   "id": "f114211c",
   "metadata": {},
   "outputs": [
    {
     "name": "stdout",
     "output_type": "stream",
     "text": [
      "yep!\n",
      "yep!\n",
      "first\n",
      "last\n",
      "middle\n"
     ]
    }
   ],
   "source": [
    "if 1<2:\n",
    "    print('yep!')\n",
    "if 1<2:\n",
    "    print('yep!')\n",
    "if 1<2:\n",
    "    print('first')\n",
    "else:\n",
    "    print('last')\n",
    "if 1>2:\n",
    "    print('first')\n",
    "else:\n",
    "    print('last')\n",
    "if 1 == 2:\n",
    "    print('first')\n",
    "elif 3 == 3:\n",
    "    print('middle')\n",
    "else: \n",
    "    print('Last')\n"
   ]
  },
  {
   "cell_type": "code",
   "execution_count": 27,
   "id": "4f981c0c",
   "metadata": {},
   "outputs": [
    {
     "name": "stdout",
     "output_type": "stream",
     "text": [
      "1\n",
      "2\n",
      "3\n",
      "4\n",
      "5\n",
      "yep\n",
      "yep\n",
      "yep\n",
      "yep\n",
      "yep\n",
      "2\n",
      "4\n",
      "6\n",
      "8\n",
      "10\n"
     ]
    }
   ],
   "source": [
    "seq = [1,2,3,4,5]\n",
    "for item in seq:\n",
    "    print (item)\n",
    "for item in seq:\n",
    "    print('yep')\n",
    "for jelly in seq:\n",
    "    print(jelly+jelly)"
   ]
  },
  {
   "cell_type": "code",
   "execution_count": 28,
   "id": "ec4ac564",
   "metadata": {},
   "outputs": [
    {
     "name": "stdout",
     "output_type": "stream",
     "text": [
      "i is:1\n",
      "i is:2\n",
      "i is:3\n",
      "i is:4\n"
     ]
    }
   ],
   "source": [
    "i = 1\n",
    "while i<5:\n",
    "    print ('i is:{}'.format(i))\n",
    "    i= i+1"
   ]
  },
  {
   "cell_type": "code",
   "execution_count": 29,
   "id": "5735dc7f",
   "metadata": {},
   "outputs": [
    {
     "name": "stdout",
     "output_type": "stream",
     "text": [
      "0\n",
      "1\n",
      "2\n",
      "3\n",
      "4\n"
     ]
    },
    {
     "data": {
      "text/plain": [
       "[0, 1, 2, 3, 4]"
      ]
     },
     "execution_count": 29,
     "metadata": {},
     "output_type": "execute_result"
    }
   ],
   "source": [
    "range(5)\n",
    "for i in range(5):\n",
    "    print(i)\n",
    "list(range(5))"
   ]
  },
  {
   "cell_type": "code",
   "execution_count": 30,
   "id": "ddfafbb8",
   "metadata": {},
   "outputs": [
    {
     "name": "stdout",
     "output_type": "stream",
     "text": [
      "[1, 4, 9, 16]\n"
     ]
    },
    {
     "data": {
      "text/plain": [
       "[1, 4, 9, 16]"
      ]
     },
     "execution_count": 30,
     "metadata": {},
     "output_type": "execute_result"
    }
   ],
   "source": [
    "x = [1,2,3,4]\n",
    "out = []\n",
    "for item in x:\n",
    "    out.append(item**2)\n",
    "print (out)\n",
    "[item**2 for item in x]"
   ]
  },
  {
   "cell_type": "code",
   "execution_count": 33,
   "id": "13d5edc7",
   "metadata": {},
   "outputs": [
    {
     "name": "stdout",
     "output_type": "stream",
     "text": [
      "default\n",
      "new param\n",
      "new param\n",
      "4\n"
     ]
    }
   ],
   "source": [
    "def my_func(param1='default'):\n",
    "    \"\"\"\n",
    "    Docstring goes here\n",
    "    \"\"\"\n",
    "    print(param1)\n",
    "my_func\n",
    "my_func()\n",
    "my_func('new param')\n",
    "my_func(param1='new param')\n",
    "def square(x):\n",
    "    return x**2\n",
    "out = square(2)\n",
    "print(out)"
   ]
  },
  {
   "cell_type": "code",
   "execution_count": 36,
   "id": "99cab752",
   "metadata": {},
   "outputs": [
    {
     "data": {
      "text/plain": [
       "<function __main__.<lambda>(var)>"
      ]
     },
     "execution_count": 36,
     "metadata": {},
     "output_type": "execute_result"
    }
   ],
   "source": [
    "def time2(var):\n",
    "    return var*2\n",
    "time2(2)\n",
    "lambda var:var*2"
   ]
  },
  {
   "cell_type": "code",
   "execution_count": 40,
   "id": "cd751376",
   "metadata": {},
   "outputs": [
    {
     "name": "stdout",
     "output_type": "stream",
     "text": [
      " Volume in drive C has no label.\n",
      " Volume Serial Number is B455-737A\n",
      "\n",
      " Directory of C:\\Users\\84827\n",
      "\n",
      "17/03/2023  10:28 SA    <DIR>          .\n",
      "31/12/2022  12:54 CH    <DIR>          ..\n",
      "15/03/2023  01:15 CH    <DIR>          .android\n",
      "17/03/2023  10:31 SA    <DIR>          .conda\n",
      "10/03/2023  02:11 CH                25 .condarc\n",
      "10/03/2023  02:11 CH    <DIR>          .continuum\n",
      "07/03/2023  10:27 SA                16 .emulator_console_auth_token\n",
      "07/03/2023  09:34 SA    <DIR>          .gradle\n",
      "17/03/2023  10:28 SA    <DIR>          .ipynb_checkpoints\n",
      "10/03/2023  02:12 CH    <DIR>          .ipython\n",
      "10/03/2023  02:12 CH    <DIR>          .jupyter\n",
      "07/03/2023  09:36 SA    <DIR>          .m2\n",
      "10/03/2023  02:08 CH    <DIR>          anaconda\n",
      "10/03/2023  02:00 CH    <DIR>          anaconda3\n",
      "28/02/2023  01:48 CH    <DIR>          AndroidStudioProjects\n",
      "31/12/2022  08:48 SA    <DIR>          Contacts\n",
      "17/03/2023  09:36 SA    <DIR>          Desktop\n",
      "10/03/2023  02:08 CH    <DIR>          Documents\n",
      "17/03/2023  10:30 SA    <DIR>          Downloads\n",
      "31/12/2022  08:48 SA    <DIR>          Favorites\n",
      "17/03/2023  10:28 SA            11.408 lab1Class_datam.ipynb\n",
      "31/12/2022  08:48 SA    <DIR>          Links\n",
      "13/03/2023  02:30 CH    <DIR>          Microsoft\n",
      "31/12/2022  08:48 SA    <DIR>          Music\n",
      "17/03/2023  08:34 SA    <DIR>          OneDrive\n",
      "03/01/2023  12:41 CH    <DIR>          Oracle\n",
      "02/01/2023  11:03 CH    <DIR>          Pictures\n",
      "31/12/2022  08:48 SA    <DIR>          Saved Games\n",
      "31/12/2022  08:48 SA    <DIR>          Searches\n",
      "10/03/2023  04:09 CH            36.301 Untitled.ipynb\n",
      "17/03/2023  10:24 SA            11.408 Untitled1.ipynb\n",
      "03/01/2023  05:12 CH    <DIR>          Videos\n",
      "               5 File(s)         59.158 bytes\n",
      "              27 Dir(s)  119.842.131.968 bytes free\n"
     ]
    }
   ],
   "source": [
    "ls"
   ]
  },
  {
   "cell_type": "code",
   "execution_count": 39,
   "id": "c7130a77",
   "metadata": {},
   "outputs": [
    {
     "data": {
      "text/plain": [
       "[2, 4]"
      ]
     },
     "execution_count": 39,
     "metadata": {},
     "output_type": "execute_result"
    }
   ],
   "source": [
    "seq=[1,2,3,4,5]\n",
    "map(time2, seq)\n",
    "list(map(time2,seq))\n",
    "list(map(lambda var: var*2, seq))\n",
    "filter(lambda item:item%2 ==0,seq)\n",
    "list(filter(lambda item: item%2==0,seq))"
   ]
  },
  {
   "cell_type": "code",
   "execution_count": 38,
   "id": "54528fac",
   "metadata": {},
   "outputs": [
    {
     "data": {
      "text/plain": [
       "True"
      ]
     },
     "execution_count": 38,
     "metadata": {},
     "output_type": "execute_result"
    }
   ],
   "source": [
    "st = 'hello my name is Sam'\n",
    "st.lower()\n",
    "st.upper()\n",
    "st.split()\n",
    "tweet = 'Go Sports! #Sports'\n",
    "tweet.split('#')\n",
    "tweet.split('#')[1]\n",
    "d\n",
    "d.keys()\n",
    "d.items()\n",
    "lst = [1,2,3]\n",
    "lst.pop()\n",
    "lst\n",
    "'x' in [1,2,3]\n",
    "'x' in ['x','y','z']\n"
   ]
  },
  {
   "cell_type": "code",
   "execution_count": null,
   "id": "78112381",
   "metadata": {},
   "outputs": [],
   "source": []
  }
 ],
 "metadata": {
  "kernelspec": {
   "display_name": "Python 3 (ipykernel)",
   "language": "python",
   "name": "python3"
  },
  "language_info": {
   "codemirror_mode": {
    "name": "ipython",
    "version": 3
   },
   "file_extension": ".py",
   "mimetype": "text/x-python",
   "name": "python",
   "nbconvert_exporter": "python",
   "pygments_lexer": "ipython3",
   "version": "3.9.13"
  }
 },
 "nbformat": 4,
 "nbformat_minor": 5
}
